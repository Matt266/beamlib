{
 "cells": [
  {
   "cell_type": "code",
   "execution_count": 2,
   "id": "7cb91c08",
   "metadata": {},
   "outputs": [
    {
     "name": "stdout",
     "output_type": "stream",
     "text": [
      "[79.98721931376613, 9.975269475687153]\n"
     ]
    },
    {
     "data": {
      "text/plain": [
       "1×2 Matrix{Float64}:\n",
       " 79.9936  9.93367"
      ]
     },
     "metadata": {},
     "output_type": "display_data"
    }
   ],
   "source": [
    "using BeamLib: IsotropicArray, steer, esprit, dml\n",
    "using LinearAlgebra\n",
    "using StatsBase\n",
    "\n",
    "fc = 150e6\n",
    "\n",
    "# Spacing:  1m is λ/2 for 150MHz \n",
    "# Oriented along yaxis to match Matlab behavior\n",
    "# subarrays for initial estimate via ESPRIT\n",
    "#        subarray 1:  x    x   x   -\n",
    "#        subarray 2:  -    x   x   x\n",
    "pa = IsotropicArray([-1.5 -0.5 0.5 1.5])\n",
    "\n",
    "Δ = mean(pa.r[:,2:end], dims=2)-mean(pa.r[:,1:end-1], dims=2)\n",
    "\n",
    "# test signal generation\n",
    "Θ = deg2rad.([10, 80])\n",
    "d = length(Θ)\n",
    "fs = 8e3\n",
    "t = transpose(0:1/fs:1)\n",
    "s1 = sin.(2π*t*300)\n",
    "s2 = cos.(2π*t*400)\n",
    "\n",
    "s = steer(pa, fc, Θ')*[s1; s2]\n",
    "n = (0.1/sqrt(2))*(randn(size(s)) + 1im*randn(size(s)))\n",
    "X = s + n\n",
    "Rxx = 1/size(X)[2] * X*X'\n",
    "\n",
    "# initial estimate using esprit\n",
    "Z = [X[1:3,:]; X[2:4,:]]\n",
    "Rzz = 1/size(Z)[2] * Z*Z'\n",
    "Θest = esprit(Rzz, Δ, d, fc)\n",
    "println(rad2deg.(Θest))\n",
    "\n",
    "# Estimate via WSF\n",
    "rad2deg.(dml(pa, Rxx, reshape(Θest, 1, d) , fc))"
   ]
  }
 ],
 "metadata": {
  "kernelspec": {
   "display_name": "Julia 1.11.5",
   "language": "julia",
   "name": "julia-1.11"
  },
  "language_info": {
   "file_extension": ".jl",
   "mimetype": "application/julia",
   "name": "julia",
   "version": "1.11.5"
  }
 },
 "nbformat": 4,
 "nbformat_minor": 5
}
