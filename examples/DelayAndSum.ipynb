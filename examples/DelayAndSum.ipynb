{
 "cells": [
  {
   "cell_type": "code",
   "execution_count": 2,
   "metadata": {},
   "outputs": [
    {
     "ename": "MethodError",
     "evalue": "MethodError: no method matching cos(::LinearAlgebra.Adjoint{Quantity{Float64, NoDims, Unitful.FreeUnits{(°,), NoDims, nothing}}, LinRange{Quantity{Float64, NoDims, Unitful.FreeUnits{(°,), NoDims, nothing}}, Int64}})\nThe function `cos` exists, but no method is defined for this combination of argument types.\n\nClosest candidates are:\n  cos(!Matched::Missing)\n   @ Base math.jl:1533\n  cos(!Matched::ComplexF16)\n   @ Base math.jl:1512\n  cos(!Matched::BigFloat)\n   @ Base mpfr.jl:860\n  ...\n",
     "output_type": "error",
     "traceback": [
      "MethodError: no method matching cos(::LinearAlgebra.Adjoint{Quantity{Float64, NoDims, Unitful.FreeUnits{(°,), NoDims, nothing}}, LinRange{Quantity{Float64, NoDims, Unitful.FreeUnits{(°,), NoDims, nothing}}, Int64}})\n",
      "The function `cos` exists, but no method is defined for this combination of argument types.\n",
      "\n",
      "Closest candidates are:\n",
      "  cos(!Matched::Missing)\n",
      "   @ Base math.jl:1533\n",
      "  cos(!Matched::ComplexF16)\n",
      "   @ Base math.jl:1512\n",
      "  cos(!Matched::BigFloat)\n",
      "   @ Base mpfr.jl:860\n",
      "  ...\n",
      "\n",
      "\n",
      "Stacktrace:\n",
      "  [1] steerphi(x::BeamLib.PhasedArray1D{Quantity{Int64, 𝐋, Unitful.FreeUnits{(cm,), 𝐋, nothing}}}; f::LinRange{Quantity{Float64, 𝐓^-1, Unitful.FreeUnits{(GHz,), 𝐓^-1, nothing}}, Int64}, ϕ::LinearAlgebra.Adjoint{Quantity{Float64, NoDims, Unitful.FreeUnits{(°,), NoDims, nothing}}, LinRange{Quantity{Float64, NoDims, Unitful.FreeUnits{(°,), NoDims, nothing}}, Int64}}, fs::Nothing, c::PhysicalConstants.PhysicalConstant{Symbol(\"##SpeedOfLightInVacuum#257\"), Float64, 𝐋 𝐓^-1, Unitful.FreeUnits{(m, s^-1), 𝐋 𝐓^-1, nothing}}, direction::BeamLib.WaveDirection)\n",
      "    @ BeamLib c:\\Users\\matt\\OneDrive\\Dokumente\\__Master\\Julia\\beamlib\\src\\BeamLib.jl:41\n",
      "  [2] (::Base.Broadcast.var\"#29#30\"{@Kwargs{f::LinRange{Quantity{Float64, 𝐓^-1, Unitful.FreeUnits{(GHz,), 𝐓^-1, nothing}}, Int64}, ϕ::LinearAlgebra.Adjoint{Quantity{Float64, NoDims, Unitful.FreeUnits{(°,), NoDims, nothing}}, LinRange{Quantity{Float64, NoDims, Unitful.FreeUnits{(°,), NoDims, nothing}}, Int64}}}, typeof(BeamLib.steerphi)})(args::BeamLib.PhasedArray1D{Quantity{Int64, 𝐋, Unitful.FreeUnits{(cm,), 𝐋, nothing}}})\n",
      "    @ Base.Broadcast .\\broadcast.jl:1306\n",
      "  [3] _broadcast_getindex_evalf\n",
      "    @ .\\broadcast.jl:673 [inlined]\n",
      "  [4] _broadcast_getindex\n",
      "    @ .\\broadcast.jl:646 [inlined]\n",
      "  [5] _getindex\n",
      "    @ .\\broadcast.jl:670 [inlined]\n",
      "  [6] _getindex\n",
      "    @ .\\broadcast.jl:669 [inlined]\n",
      "  [7] _broadcast_getindex\n",
      "    @ .\\broadcast.jl:645 [inlined]\n",
      "  [8] getindex\n",
      "    @ .\\broadcast.jl:605 [inlined]\n",
      "  [9] copy\n",
      "    @ .\\broadcast.jl:882 [inlined]\n",
      " [10] materialize(bc::Base.Broadcast.Broadcasted{Base.Broadcast.DefaultArrayStyle{0}, Nothing, typeof(*), Tuple{Base.RefValue{LinearAlgebra.Adjoint{ComplexF64, Vector{ComplexF64}}}, Base.Broadcast.Broadcasted{Base.Broadcast.DefaultArrayStyle{0}, Nothing, Base.Broadcast.var\"#29#30\"{@Kwargs{f::LinRange{Quantity{Float64, 𝐓^-1, Unitful.FreeUnits{(GHz,), 𝐓^-1, nothing}}, Int64}, ϕ::LinearAlgebra.Adjoint{Quantity{Float64, NoDims, Unitful.FreeUnits{(°,), NoDims, nothing}}, LinRange{Quantity{Float64, NoDims, Unitful.FreeUnits{(°,), NoDims, nothing}}, Int64}}}, typeof(BeamLib.steerphi)}, Tuple{Base.RefValue{BeamLib.PhasedArray1D{Quantity{Int64, 𝐋, Unitful.FreeUnits{(cm,), 𝐋, nothing}}}}}}}})\n",
      "    @ Base.Broadcast .\\broadcast.jl:867\n",
      " [11] top-level scope\n",
      "    @ c:\\Users\\matt\\OneDrive\\Dokumente\\__Master\\Julia\\beamlib\\examples\\jl_notebook_cell_df34fa98e69747e1a8f8a730347b8e2f_W0sZmlsZQ==.jl:9"
     ]
    }
   ],
   "source": [
    "using BeamLib\n",
    "using Unitful\n",
    "import Unitful: mm, cm, GHz, dB\n",
    "import UnitfulAngles: °\n",
    "pa = BeamLib.PhasedArray1D(Vector(-6cm:4cm:6cm))\n",
    "weights = BeamLib.dsb_weights(pa, f=3.75GHz, ϕ=110°)\n",
    "faxis = LinRange(3.7GHz, 3.8GHz, 1024)\n",
    "ϕaxis = LinRange(0°, 180°, 256)\n",
    "#W = Ref(weights').*BeamLib.steerphi.(Ref(pa), f=faxis, ϕ=ϕaxis')\n",
    "#WdB = dB.(abs.(W),1, true)"
   ]
  },
  {
   "cell_type": "code",
   "execution_count": null,
   "metadata": {},
   "outputs": [],
   "source": [
    "using Plots\n",
    "import Measures\n",
    "p1 = heatmap(uconvert.(°, ϕaxis), uconvert.(GHz, faxis), uconvert.(dB, WdB), cmap = :jet, clim=(-40, 0))\n",
    "plot!(title=\"Beampattern\\nDelay-and-Sum Beamformer\", cbar_title=\"\\nPower in dB\", margin=5*Measures.mm)\n",
    "xlabel!(\"Angle in degree\")\n",
    "ylabel!(\"Frequency in GHz\")"
   ]
  },
  {
   "cell_type": "code",
   "execution_count": null,
   "metadata": {},
   "outputs": [],
   "source": [
    "kxaxis = LinRange(0/cm, π/4cm, 256) # Nyquist theorem with k_s = 2π/4cm and k_s/2 = π/4cm\n",
    "W = Ref(weights').*BeamLib.steerk.(Ref(pa), faxis, kxaxis')\n",
    "WdB = dB.(abs.(W),1, true)\n",
    "\n",
    "using Plots\n",
    "import Measures\n",
    "p1 = heatmap(uconvert.(m^-1, kxaxis), uconvert.(GHz, faxis), uconvert.(dB, WdB), cmap = :jet, clim=(-40, 0))\n",
    "plot!(title=\"Beampattern\\nDelay-and-Sum Beamformer\", cbar_title=\"\\nPower in dB\", margin=5*Measures.mm)\n",
    "xlabel!(\"Wavenumber in rad/m\")\n",
    "ylabel!(\"Frequency in GHz\")"
   ]
  }
 ],
 "metadata": {
  "kernelspec": {
   "display_name": "Julia 1.11.0",
   "language": "julia",
   "name": "julia-1.11"
  },
  "language_info": {
   "file_extension": ".jl",
   "mimetype": "application/julia",
   "name": "julia",
   "version": "1.11.0"
  }
 },
 "nbformat": 4,
 "nbformat_minor": 2
}
