{
 "cells": [
  {
   "cell_type": "code",
   "execution_count": null,
   "metadata": {},
   "outputs": [
    {
     "ename": "MethodError",
     "evalue": "MethodError: no method matching exp(::Quantity{ComplexF64, 𝐓 𝐋^-1, Unitful.FreeUnits{(m^-1, s), 𝐓 𝐋^-1, nothing}})\nThe function `exp` exists, but no method is defined for this combination of argument types.\n\nClosest candidates are:\n  exp(!Matched::Missing)\n   @ Base math.jl:1533\n  exp(!Matched::ComplexF16)\n   @ Base math.jl:1517\n  exp(!Matched::BigFloat)\n   @ Base mpfr.jl:733\n  ...\n",
     "output_type": "error",
     "traceback": [
      "MethodError: no method matching exp(::Quantity{ComplexF64, 𝐓 𝐋^-1, Unitful.FreeUnits{(m^-1, s), 𝐓 𝐋^-1, nothing}})\n",
      "The function `exp` exists, but no method is defined for this combination of argument types.\n",
      "\n",
      "Closest candidates are:\n",
      "  exp(!Matched::Missing)\n",
      "   @ Base math.jl:1533\n",
      "  exp(!Matched::ComplexF16)\n",
      "   @ Base math.jl:1517\n",
      "  exp(!Matched::BigFloat)\n",
      "   @ Base mpfr.jl:733\n",
      "  ...\n",
      "\n",
      "\n",
      "Stacktrace:\n",
      "  [1] _broadcast_getindex_evalf\n",
      "    @ .\\broadcast.jl:673 [inlined]\n",
      "  [2] _broadcast_getindex\n",
      "    @ .\\broadcast.jl:646 [inlined]\n",
      "  [3] getindex\n",
      "    @ .\\broadcast.jl:605 [inlined]\n",
      "  [4] copy\n",
      "    @ .\\broadcast.jl:906 [inlined]\n",
      "  [5] materialize(bc::Base.Broadcast.Broadcasted{Base.Broadcast.DefaultArrayStyle{1}, Nothing, typeof(exp), Tuple{Vector{Quantity{ComplexF64, 𝐓 𝐋^-1, Unitful.FreeUnits{(m^-1, s), 𝐓 𝐋^-1, nothing}}}}})\n",
      "    @ Base.Broadcast .\\broadcast.jl:867\n",
      "  [6] steerphi(x::PhasedArray1D, f::Float64, ϕ::Quantity{Int64, NoDims, Unitful.FreeUnits{(°,), NoDims, nothing}}; fs::Nothing, c::PhysicalConstants.PhysicalConstant{Symbol(\"##SpeedOfLightInVacuum#257\"), Float64, 𝐋 𝐓^-1, Unitful.FreeUnits{(m, s^-1), 𝐋 𝐓^-1, nothing}}, direction::BeamLib.WaveDirection)\n",
      "    @ BeamLib c:\\Users\\matt\\OneDrive\\Dokumente\\__Master\\Julia\\beamlib\\src\\BeamLib.jl:52\n",
      "  [7] steerphi\n",
      "    @ c:\\Users\\matt\\OneDrive\\Dokumente\\__Master\\Julia\\beamlib\\src\\BeamLib.jl:44 [inlined]\n",
      "  [8] dsb_weights(x::PhasedArray1D, f::Float64, ϕ::Quantity{Int64, NoDims, Unitful.FreeUnits{(°,), NoDims, nothing}}; fs::Nothing, c::PhysicalConstants.PhysicalConstant{Symbol(\"##SpeedOfLightInVacuum#257\"), Float64, 𝐋 𝐓^-1, Unitful.FreeUnits{(m, s^-1), 𝐋 𝐓^-1, nothing}}, direction::BeamLib.WaveDirection)\n",
      "    @ BeamLib c:\\Users\\matt\\OneDrive\\Dokumente\\__Master\\Julia\\beamlib\\src\\BeamLib.jl:111\n",
      "  [9] dsb_weights(x::PhasedArray1D, f::Float64, ϕ::Quantity{Int64, NoDims, Unitful.FreeUnits{(°,), NoDims, nothing}})\n",
      "    @ BeamLib c:\\Users\\matt\\OneDrive\\Dokumente\\__Master\\Julia\\beamlib\\src\\BeamLib.jl:110\n",
      " [10] top-level scope\n",
      "    @ c:\\Users\\matt\\OneDrive\\Dokumente\\__Master\\Julia\\beamlib\\examples\\jl_notebook_cell_df34fa98e69747e1a8f8a730347b8e2f_W0sZmlsZQ==.jl:6"
     ]
    }
   ],
   "source": [
    "using BeamLib\n",
    "using Unitful\n",
    "import Unitful: mm, cm, m, GHz, dB\n",
    "import UnitfulAngles: °\n",
    "pa = BeamLib.PhasedArray1D(Vector(-6e-2:4e-2:6e-2)*4)\n",
    "weights = BeamLib.dsb_weights(pa, 3.75e9, 110°)\n",
    "faxis = LinRange(3.7GHz, 3.8GHz, 1024)"
   ]
  },
  {
   "cell_type": "code",
   "execution_count": 5,
   "metadata": {},
   "outputs": [
    {
     "ename": "UndefVarError",
     "evalue": "UndefVarError: `weights` not defined in `Main`\nSuggestion: check for spelling errors or missing imports.",
     "output_type": "error",
     "traceback": [
      "UndefVarError: `weights` not defined in `Main`\n",
      "Suggestion: check for spelling errors or missing imports.\n",
      "\n",
      "Stacktrace:\n",
      " [1] top-level scope\n",
      "   @ c:\\Users\\matt\\OneDrive\\Dokumente\\__Master\\Julia\\beamlib\\examples\\jl_notebook_cell_df34fa98e69747e1a8f8a730347b8e2f_W1sZmlsZQ==.jl:2"
     ]
    }
   ],
   "source": [
    "ϕaxis = LinRange(0°, 180°, 256)\n",
    "W = Ref(weights').*BeamLib.steerphi.(Ref(pa), faxis, ϕaxis')\n",
    "WdB = dB.(abs.(W),1, true)\n",
    "\n",
    "using Plots\n",
    "import Measures\n",
    "p1 = heatmap(uconvert.(°, ϕaxis), uconvert.(GHz, faxis), uconvert.(dB, WdB), cmap = :jet, clim=(-40, 0))\n",
    "plot!(title=\"Beampattern\\nDelay-and-Sum Beamformer\", cbar_title=\"\\nPower in dB\", margin=5*Measures.mm)\n",
    "xlabel!(\"Angle in degree\")\n",
    "ylabel!(\"Frequency in GHz\")"
   ]
  },
  {
   "cell_type": "code",
   "execution_count": 6,
   "metadata": {},
   "outputs": [
    {
     "ename": "UndefVarError",
     "evalue": "UndefVarError: `weights` not defined in `Main`\nSuggestion: check for spelling errors or missing imports.",
     "output_type": "error",
     "traceback": [
      "UndefVarError: `weights` not defined in `Main`\n",
      "Suggestion: check for spelling errors or missing imports.\n",
      "\n",
      "Stacktrace:\n",
      " [1] top-level scope\n",
      "   @ c:\\Users\\matt\\OneDrive\\Dokumente\\__Master\\Julia\\beamlib\\examples\\jl_notebook_cell_df34fa98e69747e1a8f8a730347b8e2f_W2sZmlsZQ==.jl:2"
     ]
    }
   ],
   "source": [
    "kxaxis = LinRange(-π/4cm, π/4cm, 256) # Nyquist theorem with k_s = 2π/4cm and k_s/2 = π/4cm\n",
    "W = Ref(weights').*BeamLib.steerk.(Ref(pa), faxis, kxaxis')\n",
    "WdB = dB.(abs.(W),1, true)\n",
    "\n",
    "using Plots\n",
    "import Measures\n",
    "p1 = heatmap(uconvert.(m^-1, kxaxis), uconvert.(GHz, faxis), uconvert.(dB, WdB), cmap = :jet, clim=(-40, 0))\n",
    "plot!(title=\"Beampattern\\nDelay-and-Sum Beamformer\", cbar_title=\"\\nPower in dB\", margin=5*Measures.mm)\n",
    "xlabel!(\"Wavenumber in rad/m\")\n",
    "ylabel!(\"Frequency in GHz\")"
   ]
  },
  {
   "cell_type": "markdown",
   "metadata": {},
   "source": [
    "Note how the beampattern is not pinched/stretched for changing frequencies when plotted over a wavenumber axis. "
   ]
  }
 ],
 "metadata": {
  "kernelspec": {
   "display_name": "Julia 1.11.0",
   "language": "julia",
   "name": "julia-1.11"
  },
  "language_info": {
   "file_extension": ".jl",
   "mimetype": "application/julia",
   "name": "julia",
   "version": "1.11.0"
  }
 },
 "nbformat": 4,
 "nbformat_minor": 2
}
