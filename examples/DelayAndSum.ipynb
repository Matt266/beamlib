{
 "cells": [
  {
   "cell_type": "code",
   "execution_count": null,
   "metadata": {},
   "outputs": [
    {
     "ename": "MethodError",
     "evalue": "MethodError: Cannot `convert` an object of type Quantity{Int64, 𝐋, Unitful.FreeUnits{(cm,), 𝐋, nothing}} to an object of type Tuple{Number}\nThe function `convert` exists, but no method is defined for this combination of argument types.\n\nClosest candidates are:\n  (::Type{T})(::Any) where T<:Tuple\n   @ Base tuple.jl:455\n  convert(::Type{T}, !Matched::T) where T<:Tuple\n   @ Base essentials.jl:599\n  convert(::Type{T}, !Matched::T) where T\n   @ Base Base.jl:126\n  ...\n",
     "output_type": "error",
     "traceback": [
      "MethodError: Cannot `convert` an object of type Quantity{Int64, 𝐋, Unitful.FreeUnits{(cm,), 𝐋, nothing}} to an object of type Tuple{Number}\n",
      "The function `convert` exists, but no method is defined for this combination of argument types.\n",
      "\n",
      "Closest candidates are:\n",
      "  (::Type{T})(::Any) where T<:Tuple\n",
      "   @ Base tuple.jl:455\n",
      "  convert(::Type{T}, !Matched::T) where T<:Tuple\n",
      "   @ Base essentials.jl:599\n",
      "  convert(::Type{T}, !Matched::T) where T\n",
      "   @ Base Base.jl:126\n",
      "  ...\n",
      "\n",
      "\n",
      "Stacktrace:\n",
      "  [1] setindex!(A::Memory{Tuple{Number}}, x::Quantity{Int64, 𝐋, Unitful.FreeUnits{(cm,), 𝐋, nothing}}, i1::Int64)\n",
      "    @ Base .\\genericmemory.jl:234\n",
      "  [2] unsafe_copyto!(dest::Memory{Tuple{Number}}, doffs::Int64, src::Memory{Quantity{Int64, 𝐋, Unitful.FreeUnits{(cm,), 𝐋, nothing}}}, soffs::Int64, n::Int64)\n",
      "    @ Base .\\genericmemory.jl:144\n",
      "  [3] unsafe_copyto!\n",
      "    @ .\\genericmemory.jl:124 [inlined]\n",
      "  [4] _copyto_impl!\n",
      "    @ .\\array.jl:308 [inlined]\n",
      "  [5] copyto!\n",
      "    @ .\\array.jl:294 [inlined]\n",
      "  [6] copyto!\n",
      "    @ .\\array.jl:319 [inlined]\n",
      "  [7] copyto_axcheck!\n",
      "    @ .\\abstractarray.jl:1167 [inlined]\n",
      "  [8] Array\n",
      "    @ .\\array.jl:615 [inlined]\n",
      "  [9] convert\n",
      "    @ .\\array.jl:607 [inlined]\n",
      " [10] PhasedArray1D(elements::Vector{Quantity{Int64, 𝐋, Unitful.FreeUnits{(cm,), 𝐋, nothing}}})\n",
      "    @ BeamLib c:\\Users\\matt\\OneDrive\\Dokumente\\__Master\\Julia\\beamlib\\src\\BeamLib.jl:19\n",
      " [11] top-level scope\n",
      "    @ c:\\Users\\matt\\OneDrive\\Dokumente\\__Master\\Julia\\beamlib\\examples\\jl_notebook_cell_df34fa98e69747e1a8f8a730347b8e2f_W0sZmlsZQ==.jl:5"
     ]
    }
   ],
   "source": [
    "using BeamLib\n",
    "using Unitful\n",
    "import Unitful: mm, cm, m, GHz, dB\n",
    "import UnitfulAngles: °\n",
    "pa = BeamLib.PhasedArray1D(Vector(-6e-2:4e-2:6e-2)*4)\n",
    "weights = BeamLib.dsb_weights(pa, 3.75GHz, 110°)\n",
    "faxis = LinRange(3.7GHz, 3.8GHz, 1024)"
   ]
  },
  {
   "cell_type": "code",
   "execution_count": 2,
   "metadata": {},
   "outputs": [
    {
     "ename": "UndefVarError",
     "evalue": "UndefVarError: `weights` not defined in `Main`\nSuggestion: check for spelling errors or missing imports.",
     "output_type": "error",
     "traceback": [
      "UndefVarError: `weights` not defined in `Main`\n",
      "Suggestion: check for spelling errors or missing imports.\n",
      "\n",
      "Stacktrace:\n",
      " [1] top-level scope\n",
      "   @ c:\\Users\\matt\\OneDrive\\Dokumente\\__Master\\Julia\\beamlib\\examples\\jl_notebook_cell_df34fa98e69747e1a8f8a730347b8e2f_W1sZmlsZQ==.jl:2"
     ]
    }
   ],
   "source": [
    "ϕaxis = LinRange(0°, 180°, 256)\n",
    "W = Ref(weights').*BeamLib.steerphi.(Ref(pa), faxis, ϕaxis')\n",
    "WdB = dB.(abs.(W),1, true)\n",
    "\n",
    "using Plots\n",
    "import Measures\n",
    "p1 = heatmap(uconvert.(°, ϕaxis), uconvert.(GHz, faxis), uconvert.(dB, WdB), cmap = :jet, clim=(-40, 0))\n",
    "plot!(title=\"Beampattern\\nDelay-and-Sum Beamformer\", cbar_title=\"\\nPower in dB\", margin=5*Measures.mm)\n",
    "xlabel!(\"Angle in degree\")\n",
    "ylabel!(\"Frequency in GHz\")"
   ]
  },
  {
   "cell_type": "code",
   "execution_count": 3,
   "metadata": {},
   "outputs": [
    {
     "ename": "UndefVarError",
     "evalue": "UndefVarError: `weights` not defined in `Main`\nSuggestion: check for spelling errors or missing imports.",
     "output_type": "error",
     "traceback": [
      "UndefVarError: `weights` not defined in `Main`\n",
      "Suggestion: check for spelling errors or missing imports.\n",
      "\n",
      "Stacktrace:\n",
      " [1] top-level scope\n",
      "   @ c:\\Users\\matt\\OneDrive\\Dokumente\\__Master\\Julia\\beamlib\\examples\\jl_notebook_cell_df34fa98e69747e1a8f8a730347b8e2f_W2sZmlsZQ==.jl:2"
     ]
    }
   ],
   "source": [
    "kxaxis = LinRange(-π/4cm, π/4cm, 256) # Nyquist theorem with k_s = 2π/4cm and k_s/2 = π/4cm\n",
    "W = Ref(weights').*BeamLib.steerk.(Ref(pa), faxis, kxaxis')\n",
    "WdB = dB.(abs.(W),1, true)\n",
    "\n",
    "using Plots\n",
    "import Measures\n",
    "p1 = heatmap(uconvert.(m^-1, kxaxis), uconvert.(GHz, faxis), uconvert.(dB, WdB), cmap = :jet, clim=(-40, 0))\n",
    "plot!(title=\"Beampattern\\nDelay-and-Sum Beamformer\", cbar_title=\"\\nPower in dB\", margin=5*Measures.mm)\n",
    "xlabel!(\"Wavenumber in rad/m\")\n",
    "ylabel!(\"Frequency in GHz\")"
   ]
  },
  {
   "cell_type": "markdown",
   "metadata": {},
   "source": [
    "Note how the beampattern is not pinched/stretched for changing frequencies when plotted over a wavenumber axis. "
   ]
  }
 ],
 "metadata": {
  "kernelspec": {
   "display_name": "Julia 1.11.0",
   "language": "julia",
   "name": "julia-1.11"
  },
  "language_info": {
   "file_extension": ".jl",
   "mimetype": "application/julia",
   "name": "julia",
   "version": "1.11.0"
  }
 },
 "nbformat": 4,
 "nbformat_minor": 2
}
