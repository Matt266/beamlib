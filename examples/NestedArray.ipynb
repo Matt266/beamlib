{
 "cells": [
  {
   "cell_type": "code",
   "execution_count": 2,
   "metadata": {},
   "outputs": [
    {
     "ename": "MethodError",
     "evalue": "MethodError: no method matching steerphi(::PhasedArray1D, ::Float64, ::Float64, ::Float64; fs::Nothing, c::Float64, direction::BeamLib.WaveDirection)\nThe function `steerphi` exists, but no method is defined for this combination of argument types.\n\nClosest candidates are:\n  steerphi(!Matched::NestedArray, ::Any, ::Any, ::Any; fs, c, direction)\n   @ BeamLib c:\\Users\\matt\\OneDrive\\Dokumente\\__Master\\Julia\\beamlib\\src\\BeamLib.jl:69\n  steerphi(!Matched::PhasedArray3D, ::Any, ::Any, ::Any; fs, c, direction)\n   @ BeamLib c:\\Users\\matt\\OneDrive\\Dokumente\\__Master\\Julia\\beamlib\\src\\BeamLib.jl:58\n  steerphi(!Matched::NestedArray, ::Any, ::Any; ...)\n   @ BeamLib c:\\Users\\matt\\OneDrive\\Dokumente\\__Master\\Julia\\beamlib\\src\\BeamLib.jl:69\n  ...\n",
     "output_type": "error",
     "traceback": [
      "MethodError: no method matching steerphi(::PhasedArray1D, ::Float64, ::Float64, ::Float64; fs::Nothing, c::Float64, direction::BeamLib.WaveDirection)\n",
      "The function `steerphi` exists, but no method is defined for this combination of argument types.\n",
      "\n",
      "Closest candidates are:\n",
      "  steerphi(!Matched::NestedArray, ::Any, ::Any, ::Any; fs, c, direction)\n",
      "   @ BeamLib c:\\Users\\matt\\OneDrive\\Dokumente\\__Master\\Julia\\beamlib\\src\\BeamLib.jl:69\n",
      "  steerphi(!Matched::PhasedArray3D, ::Any, ::Any, ::Any; fs, c, direction)\n",
      "   @ BeamLib c:\\Users\\matt\\OneDrive\\Dokumente\\__Master\\Julia\\beamlib\\src\\BeamLib.jl:58\n",
      "  steerphi(!Matched::NestedArray, ::Any, ::Any; ...)\n",
      "   @ BeamLib c:\\Users\\matt\\OneDrive\\Dokumente\\__Master\\Julia\\beamlib\\src\\BeamLib.jl:69\n",
      "  ...\n",
      "\n",
      "\n",
      "Stacktrace:\n",
      " [1] (::BeamLib.var\"#13#14\"{Nothing, Float64, BeamLib.WaveDirection, Float64, Float64, Float64, Vector{ComplexF64}})(::Tuple{Int64, PhasedArray1D})\n",
      "   @ BeamLib .\\none:0\n",
      " [2] iterate\n",
      "   @ .\\generator.jl:48 [inlined]\n",
      " [3] collect(itr::Base.Generator{Base.Iterators.Enumerate{Vector{PhasedArray}}, BeamLib.var\"#13#14\"{Nothing, Float64, BeamLib.WaveDirection, Float64, Float64, Float64, Vector{ComplexF64}}})\n",
      "   @ Base .\\array.jl:791\n",
      " [4] _totuple\n",
      "   @ .\\tuple.jl:489 [inlined]\n",
      " [5] Tuple(itr::Base.Generator{Base.Iterators.Enumerate{Vector{PhasedArray}}, BeamLib.var\"#13#14\"{Nothing, Float64, BeamLib.WaveDirection, Float64, Float64, Float64, Vector{ComplexF64}}})\n",
      "   @ Base .\\tuple.jl:455\n",
      " [6] steerphi(x::NestedArray, f::Float64, ϕ::Float64, θ::Float64; fs::Nothing, c::Float64, direction::BeamLib.WaveDirection)\n",
      "   @ BeamLib c:\\Users\\matt\\OneDrive\\Dokumente\\__Master\\Julia\\beamlib\\src\\BeamLib.jl:71\n",
      " [7] steerphi(x::NestedArray, f::Float64, ϕ::Float64, θ::Float64)\n",
      "   @ BeamLib c:\\Users\\matt\\OneDrive\\Dokumente\\__Master\\Julia\\beamlib\\src\\BeamLib.jl:69\n",
      " [8] top-level scope\n",
      "   @ c:\\Users\\matt\\OneDrive\\Dokumente\\__Master\\Julia\\beamlib\\examples\\jl_notebook_cell_df34fa98e69747e1a8f8a730347b8e2f_W0sZmlsZQ==.jl:5"
     ]
    }
   ],
   "source": [
    "using BeamLib\n",
    "pa = BeamLib.PhasedArray1D(-6e-2, -2e-2, 2e-2, 6e-2)\n",
    "nested_pa = BeamLib.NestedArray([pa, pa], BeamLib.PhasedArray1D(0, 1))\n",
    "deeply_nested_pa = BeamLib.NestedArray([pa, nested_pa], BeamLib.PhasedArray1D(-1, 1))\n",
    "weights = BeamLib.steerphi(deeply_nested_pa, 3.75e9, deg2rad(110))\n",
    "#weights = BeamLib.dsb_weights(pa, 3.75e9, deg2rad(110))\n",
    "#faxis = LinRange(3.7e9, 3.8e9, 1024)"
   ]
  },
  {
   "cell_type": "code",
   "execution_count": 8,
   "metadata": {},
   "outputs": [
    {
     "ename": "UndefVarError",
     "evalue": "UndefVarError: `faxis` not defined in `Main`\nSuggestion: check for spelling errors or missing imports.",
     "output_type": "error",
     "traceback": [
      "UndefVarError: `faxis` not defined in `Main`\n",
      "Suggestion: check for spelling errors or missing imports.\n",
      "\n",
      "Stacktrace:\n",
      " [1] top-level scope\n",
      "   @ c:\\Users\\matt\\OneDrive\\Dokumente\\__Master\\Julia\\beamlib\\examples\\jl_notebook_cell_df34fa98e69747e1a8f8a730347b8e2f_W1sZmlsZQ==.jl:2"
     ]
    }
   ],
   "source": [
    "ϕaxis = LinRange(0, 180, 256)\n",
    "W = Ref(weights').*BeamLib.steerphi.(Ref(pa), faxis, deg2rad.(ϕaxis)')\n",
    "WdB = 20*log10.(abs.(W))\n",
    "\n",
    "using Plots\n",
    "import Measures\n",
    "p1 = heatmap(ϕaxis,faxis/1e9, WdB, cmap = :jet, clim=(-40, 0))\n",
    "plot!(title=\"Beampattern\\nDelay-and-Sum Beamformer\", cbar_title=\"\\nPower in dB\", margin=5*Measures.mm)\n",
    "xlabel!(\"Angle in degree\")\n",
    "ylabel!(\"Frequency in GHz\")"
   ]
  },
  {
   "cell_type": "code",
   "execution_count": 9,
   "metadata": {},
   "outputs": [
    {
     "ename": "UndefVarError",
     "evalue": "UndefVarError: `faxis` not defined in `Main`\nSuggestion: check for spelling errors or missing imports.",
     "output_type": "error",
     "traceback": [
      "UndefVarError: `faxis` not defined in `Main`\n",
      "Suggestion: check for spelling errors or missing imports.\n",
      "\n",
      "Stacktrace:\n",
      " [1] top-level scope\n",
      "   @ c:\\Users\\matt\\OneDrive\\Dokumente\\__Master\\Julia\\beamlib\\examples\\jl_notebook_cell_df34fa98e69747e1a8f8a730347b8e2f_W2sZmlsZQ==.jl:2"
     ]
    }
   ],
   "source": [
    "kxaxis = LinRange(-π/4e-2, π/4e-2, 256) # Nyquist theorem with k_s = 2π/4cm and k_s/2 = π/4cm\n",
    "W = Ref(weights').*BeamLib.steerk.(Ref(pa), faxis, kxaxis')\n",
    "WdB = 20*log10.(abs.(W))\n",
    "\n",
    "using Plots\n",
    "import Measures\n",
    "p1 = heatmap(kxaxis, faxis/1e9, WdB, cmap = :jet, clim=(-40, 0))\n",
    "plot!(title=\"Beampattern\\nDelay-and-Sum Beamformer\", cbar_title=\"\\nPower in dB\", margin=5*Measures.mm)\n",
    "xlabel!(\"Wavenumber in rad/m\")\n",
    "ylabel!(\"Frequency in GHz\")"
   ]
  },
  {
   "cell_type": "markdown",
   "metadata": {},
   "source": [
    "Note how the beampattern is not pinched/stretched for changing frequencies when plotted over a wavenumber axis. "
   ]
  }
 ],
 "metadata": {
  "kernelspec": {
   "display_name": "Julia 1.11.3",
   "language": "julia",
   "name": "julia-1.11"
  },
  "language_info": {
   "file_extension": ".jl",
   "mimetype": "application/julia",
   "name": "julia",
   "version": "1.11.3"
  }
 },
 "nbformat": 4,
 "nbformat_minor": 2
}
