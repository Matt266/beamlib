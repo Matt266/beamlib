{
 "cells": [
  {
   "cell_type": "code",
   "execution_count": 7,
   "metadata": {},
   "outputs": [
    {
     "data": {
      "text/plain": [
       "2-element Vector{Vector}:\n",
       " ComplexF64[0.9170551914504068 - 0.3987602987182372im, 0.08529611721046804 - 0.9963556455346747im, -0.8359337524799798 - 0.5488303576377129im, -0.8803164663524847 + 0.47438688753872044im]\n",
       " Vector{ComplexF64}[[-0.8803164663524847 - 0.47438688753872044im, -0.8359337524799798 + 0.5488303576377129im, 0.08529611721046804 + 0.9963556455346747im, 0.9170551914504068 + 0.3987602987182372im], [0.8113649671160732 - 0.5845398961035366im, -0.1283929661906396 - 0.9917233718294479im, -0.9334739506395089 - 0.3586452055687739im, -0.759393636456648 + 0.6506314662765308im]]"
      ]
     },
     "metadata": {},
     "output_type": "display_data"
    }
   ],
   "source": [
    "using BeamLib\n",
    "pa = BeamLib.PhasedArray1D(-6e-2, -2e-2, 2e-2, 6e-2)\n",
    "nested_pa = BeamLib.NestedArray([pa, pa], BeamLib.PhasedArray1D(0, 1))\n",
    "deeply_nested_pa = BeamLib.NestedArray([pa, nested_pa], BeamLib.PhasedArray1D(-1, 1))\n",
    "weights = BeamLib.steerphi(deeply_nested_pa, 3.75e9, deg2rad(110))\n",
    "#weights = BeamLib.dsb_weights(pa, 3.75e9, deg2rad(110))\n",
    "#faxis = LinRange(3.7e9, 3.8e9, 1024)"
   ]
  },
  {
   "cell_type": "code",
   "execution_count": 8,
   "metadata": {},
   "outputs": [
    {
     "ename": "UndefVarError",
     "evalue": "UndefVarError: `faxis` not defined in `Main`\nSuggestion: check for spelling errors or missing imports.",
     "output_type": "error",
     "traceback": [
      "UndefVarError: `faxis` not defined in `Main`\n",
      "Suggestion: check for spelling errors or missing imports.\n",
      "\n",
      "Stacktrace:\n",
      " [1] top-level scope\n",
      "   @ c:\\Users\\matt\\OneDrive\\Dokumente\\__Master\\Julia\\beamlib\\examples\\jl_notebook_cell_df34fa98e69747e1a8f8a730347b8e2f_W1sZmlsZQ==.jl:2"
     ]
    }
   ],
   "source": [
    "ϕaxis = LinRange(0, 180, 256)\n",
    "W = Ref(weights').*BeamLib.steerphi.(Ref(pa), faxis, deg2rad.(ϕaxis)')\n",
    "WdB = 20*log10.(abs.(W))\n",
    "\n",
    "using Plots\n",
    "import Measures\n",
    "p1 = heatmap(ϕaxis,faxis/1e9, WdB, cmap = :jet, clim=(-40, 0))\n",
    "plot!(title=\"Beampattern\\nDelay-and-Sum Beamformer\", cbar_title=\"\\nPower in dB\", margin=5*Measures.mm)\n",
    "xlabel!(\"Angle in degree\")\n",
    "ylabel!(\"Frequency in GHz\")"
   ]
  },
  {
   "cell_type": "code",
   "execution_count": 9,
   "metadata": {},
   "outputs": [
    {
     "ename": "UndefVarError",
     "evalue": "UndefVarError: `faxis` not defined in `Main`\nSuggestion: check for spelling errors or missing imports.",
     "output_type": "error",
     "traceback": [
      "UndefVarError: `faxis` not defined in `Main`\n",
      "Suggestion: check for spelling errors or missing imports.\n",
      "\n",
      "Stacktrace:\n",
      " [1] top-level scope\n",
      "   @ c:\\Users\\matt\\OneDrive\\Dokumente\\__Master\\Julia\\beamlib\\examples\\jl_notebook_cell_df34fa98e69747e1a8f8a730347b8e2f_W2sZmlsZQ==.jl:2"
     ]
    }
   ],
   "source": [
    "kxaxis = LinRange(-π/4e-2, π/4e-2, 256) # Nyquist theorem with k_s = 2π/4cm and k_s/2 = π/4cm\n",
    "W = Ref(weights').*BeamLib.steerk.(Ref(pa), faxis, kxaxis')\n",
    "WdB = 20*log10.(abs.(W))\n",
    "\n",
    "using Plots\n",
    "import Measures\n",
    "p1 = heatmap(kxaxis, faxis/1e9, WdB, cmap = :jet, clim=(-40, 0))\n",
    "plot!(title=\"Beampattern\\nDelay-and-Sum Beamformer\", cbar_title=\"\\nPower in dB\", margin=5*Measures.mm)\n",
    "xlabel!(\"Wavenumber in rad/m\")\n",
    "ylabel!(\"Frequency in GHz\")"
   ]
  },
  {
   "cell_type": "markdown",
   "metadata": {},
   "source": [
    "Note how the beampattern is not pinched/stretched for changing frequencies when plotted over a wavenumber axis. "
   ]
  }
 ],
 "metadata": {
  "kernelspec": {
   "display_name": "Julia 1.11.3",
   "language": "julia",
   "name": "julia-1.11"
  },
  "language_info": {
   "file_extension": ".jl",
   "mimetype": "application/julia",
   "name": "julia",
   "version": "1.11.3"
  }
 },
 "nbformat": 4,
 "nbformat_minor": 2
}
