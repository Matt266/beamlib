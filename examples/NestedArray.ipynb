{
 "cells": [
  {
   "cell_type": "code",
   "execution_count": 5,
   "metadata": {},
   "outputs": [
    {
     "name": "stdout",
     "output_type": "stream",
     "text": [
      "ComplexF64[-0.021019507098233664 + 0.4995579849440376im, 0.4294659942797321 + 0.2560448393491287im, 0.4294659942797321 - 0.2560448393491287im, -0.021019507098233664 - 0.4995579849440376im]\n",
      "ComplexF64[-0.01050975354911683 + 0.2497789924720188im, 0.21473299713986604 + 0.12802241967456435im, 0.21473299713986604 - 0.12802241967456435im, -0.01050975354911683 - 0.2497789924720188im]\n"
     ]
    }
   ],
   "source": [
    "using BeamLib\n",
    "\n",
    "# array we want to compare the nested one with\n",
    "pa = BeamLib.PhasedArray1D(-6e-2, -2e-2, 2e-2, 6e-2)\n",
    "\n",
    "# unecessarily deeply nested array - just for demonstration\n",
    "base_pa1 = BeamLib.PhasedArray1D(-2e-2, 2e-2)\n",
    "base_pa2 = BeamLib.PhasedArray1D(0)\n",
    "nested_pa = BeamLib.NestedArray([base_pa1, NestedArray([base_pa2, base_pa2], PhasedArray1D(-2e-2, 2e-2))], PhasedArray1D(-4e-2, 4e-2))\n",
    "weights = BeamLib.dsb_weights(nested_pa, 3.75e9, deg2rad(110))\n",
    "\n",
    "println(weights)\n",
    "println(BeamLib.dsb_weights(pa, 3.75e9, deg2rad(110)))\n",
    "#faxis = LinRange(3.7e9, 3.8e9, 1024)"
   ]
  },
  {
   "cell_type": "code",
   "execution_count": null,
   "metadata": {},
   "outputs": [],
   "source": [
    "ϕaxis = LinRange(0, 180, 256)\n",
    "W = Ref(weights').*BeamLib.steerphi.(Ref(pa), faxis, deg2rad.(ϕaxis)')\n",
    "WdB = 20*log10.(abs.(W))\n",
    "\n",
    "using Plots\n",
    "import Measures\n",
    "p1 = heatmap(ϕaxis,faxis/1e9, WdB, cmap = :jet, clim=(-40, 0))\n",
    "plot!(title=\"Beampattern\\nDelay-and-Sum Beamformer\", cbar_title=\"\\nPower in dB\", margin=5*Measures.mm)\n",
    "xlabel!(\"Angle in degree\")\n",
    "ylabel!(\"Frequency in GHz\")"
   ]
  },
  {
   "cell_type": "code",
   "execution_count": null,
   "metadata": {},
   "outputs": [],
   "source": [
    "kxaxis = LinRange(-π/4e-2, π/4e-2, 256) # Nyquist theorem with k_s = 2π/4cm and k_s/2 = π/4cm\n",
    "W = Ref(weights').*BeamLib.steerk.(Ref(pa), faxis, kxaxis')\n",
    "WdB = 20*log10.(abs.(W))\n",
    "\n",
    "using Plots\n",
    "import Measures\n",
    "p1 = heatmap(kxaxis, faxis/1e9, WdB, cmap = :jet, clim=(-40, 0))\n",
    "plot!(title=\"Beampattern\\nDelay-and-Sum Beamformer\", cbar_title=\"\\nPower in dB\", margin=5*Measures.mm)\n",
    "xlabel!(\"Wavenumber in rad/m\")\n",
    "ylabel!(\"Frequency in GHz\")"
   ]
  },
  {
   "cell_type": "markdown",
   "metadata": {},
   "source": [
    "Note how the beampattern is not pinched/stretched for changing frequencies when plotted over a wavenumber axis. "
   ]
  }
 ],
 "metadata": {
  "kernelspec": {
   "display_name": "Julia 1.11.3",
   "language": "julia",
   "name": "julia-1.11"
  },
  "language_info": {
   "file_extension": ".jl",
   "mimetype": "application/julia",
   "name": "julia",
   "version": "1.11.3"
  }
 },
 "nbformat": 4,
 "nbformat_minor": 2
}
