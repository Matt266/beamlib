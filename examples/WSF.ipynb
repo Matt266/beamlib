{
 "cells": [
  {
   "cell_type": "code",
   "execution_count": 6,
   "id": "7cb91c08",
   "metadata": {},
   "outputs": [
    {
     "name": "stdout",
     "output_type": "stream",
     "text": [
      "[10.01551584245647, 80.05137689125924]\n"
     ]
    },
    {
     "data": {
      "text/plain": [
       "2-element Vector{Float64}:\n",
       " 10.008972767456278\n",
       " 80.07575971457588"
      ]
     },
     "metadata": {},
     "output_type": "display_data"
    }
   ],
   "source": [
    "using BeamLib: IsotropicArray, steerphi, esprit, wsf\n",
    "using LinearAlgebra\n",
    "using Optim\n",
    "\n",
    "fc = 150e6\n",
    "\n",
    "# Spacing:  1m is λ/2 for 150MHz \n",
    "# Oriented along yaxis to match Matlab behavior\n",
    "# subarrays for initial estimate via ESPRIT\n",
    "#        subarray 1:  x    x   x   -\n",
    "#        subarray 2:  -    x   x   x\n",
    "pa = IsotropicArray([0 0 0 0;\n",
    "                    -1.5 -0.5 0.5 1.5])\n",
    "Δ = 1\n",
    "\n",
    "# test signal generation\n",
    "Θ = deg2rad.([10, 80])\n",
    "d = length(Θ)\n",
    "fs = 8e3\n",
    "t = transpose(0:1/fs:1)\n",
    "s1 = sin.(2π*t*300)\n",
    "s2 = cos.(2π*t*400)\n",
    "\n",
    "s = steerphi(pa, fc, Θ[1]).*s1 + steerphi(pa, fc, Θ[2]).*s2\n",
    "n = (0.1/sqrt(2))*(randn(size(s)) + 1im*randn(size(s)))\n",
    "X = s + n\n",
    "Rxx = 1/size(X)[2] * X*X'\n",
    "\n",
    "# initial estimate using esprit\n",
    "Z = [X[1:3,:]; X[2:4,:]]\n",
    "Rzz = 1/size(Z)[2] * Z*Z'\n",
    "Θest = esprit(Rzz, Δ, d, fc)\n",
    "println(rad2deg.(Θest))\n",
    "\n",
    "# Estimate via WSF\n",
    "rad2deg.(wsf(pa, Rxx, d, Θest, fc))"
   ]
  }
 ],
 "metadata": {
  "kernelspec": {
   "display_name": "Julia 1.11.5",
   "language": "julia",
   "name": "julia-1.11"
  },
  "language_info": {
   "file_extension": ".jl",
   "mimetype": "application/julia",
   "name": "julia",
   "version": "1.11.5"
  }
 },
 "nbformat": 4,
 "nbformat_minor": 5
}
