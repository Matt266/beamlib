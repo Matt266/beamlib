{
 "cells": [
  {
   "cell_type": "code",
   "execution_count": 1,
   "id": "fa121880",
   "metadata": {},
   "outputs": [
    {
     "data": {
      "text/plain": [
       "\"Standard 2.4GHz antennas directly attached to ADC-ports A-D on the RFSoC4x2 (roughly 1.75cm between antennas). Complex amplitudes at each position are taken as mean of 10000 samples recorded with active MTS at 100MHz samplerate. Measured at 2.4GHz.\""
      ]
     },
     "metadata": {},
     "output_type": "display_data"
    }
   ],
   "source": [
    "using BeamLib\n",
    "using JSON\n",
    "    \n",
    "data = JSON.parsefile(\"manifold_rfsoc_basic_004.json\")\n",
    "display(data[\"description\"])"
   ]
  },
  {
   "cell_type": "code",
   "execution_count": 6,
   "id": "7610ff4d",
   "metadata": {},
   "outputs": [
    {
     "ename": "UndefVarError",
     "evalue": "UndefVarError: `responses` not defined in `BeamLib`\nSuggestion: check for spelling errors or missing imports.",
     "output_type": "error",
     "traceback": [
      "UndefVarError: `responses` not defined in `BeamLib`\n",
      "Suggestion: check for spelling errors or missing imports.\n",
      "\n",
      "Stacktrace:\n",
      " [1] create_interpolator(a::SampledArrayManifold)\n",
      "   @ BeamLib c:\\Users\\matt\\OneDrive\\Dokumente\\__Master\\Julia\\beamlib\\src\\BeamLib.jl:215\n",
      " [2] (::SampledArrayManifold)(f::Float64, angles::AzEl; c::Float64)\n",
      "   @ BeamLib c:\\Users\\matt\\OneDrive\\Dokumente\\__Master\\Julia\\beamlib\\src\\BeamLib.jl:228\n",
      " [3] (::SampledArrayManifold)(f::Float64, angles::LinearAlgebra.Adjoint{Float64, Vector{Float64}}; c::Float64, coords::Symbol)\n",
      "   @ BeamLib c:\\Users\\matt\\OneDrive\\Dokumente\\__Master\\Julia\\beamlib\\src\\BeamLib.jl:199\n",
      " [4] (::SampledArrayManifold)(f::Float64, angles::LinearAlgebra.Adjoint{Float64, Vector{Float64}})\n",
      "   @ BeamLib c:\\Users\\matt\\OneDrive\\Dokumente\\__Master\\Julia\\beamlib\\src\\BeamLib.jl:197\n",
      " [5] top-level scope\n",
      "   @ c:\\Users\\matt\\OneDrive\\Dokumente\\__Master\\Julia\\beamlib\\examples\\jl_notebook_cell_df34fa98e69747e1a8f8a730347b8e2f_W1sZmlsZQ==.jl:10"
     ]
    }
   ],
   "source": [
    "# num_elements x num_azimuths - Matrix\n",
    "responses = hcat(data[\"real\"] + 1im*data[\"imag\"])\n",
    "\n",
    "# num_c x num_frequencies x num_azimuths x num_elevations x num_elements\n",
    "responses = reshape(transpose(responses), 1, 1, size(responses, 2), 1, size(responses, 1))\n",
    "\n",
    "# create SampledManifold\n",
    "a = SampledArrayManifold(data[\"c\"], data[\"frequencies\"], AzEl(data[\"azimuths\"]'), responses)\n",
    "\n",
    "a(2.45e9, deg2rad.([30, 60])')"
   ]
  }
 ],
 "metadata": {
  "kernelspec": {
   "display_name": "Julia 1.11.5",
   "language": "julia",
   "name": "julia-1.11"
  },
  "language_info": {
   "file_extension": ".jl",
   "mimetype": "application/julia",
   "name": "julia",
   "version": "1.11.5"
  }
 },
 "nbformat": 4,
 "nbformat_minor": 5
}
