{
 "cells": [
  {
   "cell_type": "code",
   "execution_count": null,
   "id": "355bcce4",
   "metadata": {},
   "outputs": [
    {
     "ename": "MethodError",
     "evalue": "MethodError: no method matching select_peaks(::typeof(pfunc), ::Vector{Vector{Float64}}, ::Int64)\nThe function `select_peaks` exists, but no method is defined for this combination of argument types.\n\nClosest candidates are:\n  select_peaks(::Function, !Matched::Int64, ::Any)\n   @ BeamLib c:\\Users\\matt\\OneDrive\\Dokumente\\__Master\\Julia\\beamlib\\src\\BeamLib.jl:1093\n",
     "output_type": "error",
     "traceback": [
      "MethodError: no method matching select_peaks(::typeof(pfunc), ::Vector{Vector{Float64}}, ::Int64)\n",
      "The function `select_peaks` exists, but no method is defined for this combination of argument types.\n",
      "\n",
      "Closest candidates are:\n",
      "  select_peaks(::Function, !Matched::Int64, ::Any)\n",
      "   @ BeamLib c:\\Users\\matt\\OneDrive\\Dokumente\\__Master\\Julia\\beamlib\\src\\BeamLib.jl:1093\n",
      "\n",
      "\n",
      "Stacktrace:\n",
      " [1] find_doas(func::Function, d::Int64, grids::StepRangeLen{Float64, Base.TwicePrecision{Float64}, Base.TwicePrecision{Float64}, Int64})\n",
      "   @ BeamLib c:\\Users\\matt\\OneDrive\\Dokumente\\__Master\\Julia\\beamlib\\src\\BeamLib.jl:1160\n",
      " [2] top-level scope\n",
      "   @ c:\\Users\\matt\\OneDrive\\Dokumente\\__Master\\Julia\\beamlib\\examples\\jl_notebook_cell_df34fa98e69747e1a8f8a730347b8e2f_W0sZmlsZQ==.jl:44"
     ]
    }
   ],
   "source": [
    "using BeamLib\n",
    "using LinearAlgebra\n",
    "using StatsBase\n",
    "\n",
    "# first we set up a test case\n",
    "# with uncorrelated signals in noise\n",
    "# arriving at an array\n",
    "\n",
    "fc = 3.75e9\n",
    "# Spacing:  4cm is λ/2 for 3.75GHz \n",
    "#        subarray 1:  x    x    x   -\n",
    "#        subarray 2:  -    x    x   x\n",
    "pa = IsotropicArray(Vector(-1.5:1.5)*4e-2)\n",
    "Δ = [4e-2, 0, 0]\n",
    "M = length(pa)\n",
    "θaxis = Vector(0:1:180)\n",
    "θgrid = Vector(0:1:180)\n",
    "Agrid = steer(pa, fc, deg2rad.(θgrid)')\n",
    "\n",
    "# SNR in dB\n",
    "function snr2σ²(SNR) \n",
    "    return 10^-(SNR/10)\n",
    "end\n",
    "\n",
    "Θ = (sort([30, 60]))\n",
    "d = length(Θ)\n",
    "A = steer(pa, fc, deg2rad.(Θ)')\n",
    "Rss = Matrix(I, d, d)\n",
    "SNR = 10\n",
    "σ² = snr2σ²(SNR)\n",
    "\n",
    "N = 1000\n",
    "s = unconditional_signals(Rss, N)\n",
    "n = sqrt(σ²/2)*(randn(length(pa), N) + 1im*randn(M, N))\n",
    "X = A*s + n\n",
    "Rxx = X*X'/N\n",
    "\n",
    "# now define a power_func with the estimator we want to sweep with...\n",
    "pfunc(θ) = music(pa, Rxx, d, fc, θ)[1]\n",
    "\n",
    "# ... and perform the spectral search \n",
    "# note that less DoAs then specified might be returned if not all sources can be resolved\n",
    "# or spurious peaks might be returned\n",
    "rad2deg.(find_doas(pfunc, d, range(0, π, 20)))"
   ]
  }
 ],
 "metadata": {
  "kernelspec": {
   "display_name": "Julia 1.11.5",
   "language": "julia",
   "name": "julia-1.11"
  },
  "language_info": {
   "file_extension": ".jl",
   "mimetype": "application/julia",
   "name": "julia",
   "version": "1.11.5"
  }
 },
 "nbformat": 4,
 "nbformat_minor": 5
}
