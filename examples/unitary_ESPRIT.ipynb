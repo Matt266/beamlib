{
 "cells": [
  {
   "cell_type": "code",
   "execution_count": 10,
   "id": "7cb91c08",
   "metadata": {},
   "outputs": [
    {
     "name": "stdout",
     "output_type": "stream",
     "text": [
      "ComplexF64[180.0 - 2.620999235350076im, -4.666610734796267e-14 - 32.99899914850658im]\n"
     ]
    }
   ],
   "source": [
    "using BeamLib: IsotropicArray, steerphi, unitary_esprit\n",
    "using LinearAlgebra\n",
    "\n",
    "fc = 150e6\n",
    "\n",
    "# Spacing:  1m is λ/2 for 150MHz \n",
    "# Oriented along yaxis to match Matlab behavior\n",
    "#        subarray 1:  x    x   x   -\n",
    "#        subarray 2:  -    x   x   x\n",
    "pa = IsotropicArray([0 0 0 0;\n",
    "                    -1.5 -0.5 0.5 1.5])\n",
    "\n",
    "# selection matrix for subarray choice\n",
    "J1 = Matrix(I, 3, 4)\n",
    "\n",
    "# test signal generation\n",
    "Θ = deg2rad.([10, 80])\n",
    "d = length(Θ)\n",
    "fs = 8e3\n",
    "t = transpose(0:1/fs:1)\n",
    "s1 = sin.(2π*t*300)\n",
    "s2 = cos.(2π*t*400)\n",
    "\n",
    "s = steerphi(pa, fc, Θ[1]).*s1 + steerphi(pa, fc, Θ[2]).*s2\n",
    "n = (0.1/sqrt(2))*(randn(size(s)) + 1im*randn(size(s)))\n",
    "x = s + n\n",
    "Θest = unitary_esprit(x, J1, d)\n",
    "\n",
    "println(rad2deg.(Θest))"
   ]
  }
 ],
 "metadata": {
  "kernelspec": {
   "display_name": "Julia 1.11.4",
   "language": "julia",
   "name": "julia-1.11"
  },
  "language_info": {
   "file_extension": ".jl",
   "mimetype": "application/julia",
   "name": "julia",
   "version": "1.11.4"
  }
 },
 "nbformat": 4,
 "nbformat_minor": 5
}
