{
 "cells": [
  {
   "cell_type": "code",
   "execution_count": 7,
   "id": "7cb91c08",
   "metadata": {},
   "outputs": [
    {
     "name": "stdout",
     "output_type": "stream",
     "text": [
      "[30.06682701526825, 50.001100452232556]\n",
      "[-30.06682701526825, -50.001100452232556]\n",
      "[[30.06682701526825, 50.001100452232556], [-30.06682701526825, -50.001100452232556]]\n"
     ]
    }
   ],
   "source": [
    "using BeamLib: IsotropicArray, steer, unitary_esprit\n",
    "using LinearAlgebra\n",
    "using StatsBase\n",
    "\n",
    "fc = 150e6\n",
    "\n",
    "# Spacing:  1m is λ/2 for 150MHz \n",
    "#        subarray 1:  x    x   x   -\n",
    "#        subarray 2:  -    x   x   x\n",
    "pa = IsotropicArray([-1.5 -0.5 0.5 1.5])\n",
    "\n",
    "Δ = mean(pa.r[:,2:end], dims=2)-mean(pa.r[:,1:end-1], dims=2)\n",
    "\n",
    "# selection matrix for subarray choice\n",
    "J1 = Matrix(I, 3, 4)\n",
    "\n",
    "# test signal generation\n",
    "Θ = deg2rad.([30, 50])\n",
    "d = length(Θ)\n",
    "fs = 8e3\n",
    "t = transpose(0:1/fs:1)\n",
    "s1 = sin.(2π*t*300)\n",
    "s2 = cos.(2π*t*400)\n",
    "\n",
    "s = steer(pa, fc, Θ')*[s1; s2]\n",
    "n = (0.1/sqrt(2))*(randn(size(s)) + 1im*randn(size(s)))\n",
    "x = s + n\n",
    "\n",
    "println(rad2deg.(unitary_esprit(x, J1, Δ, d, fc)))\n",
    "println(rad2deg.(unitary_esprit(x, J1, Δ, d, fc; side=:right)))\n",
    "println([rad2deg.(est) for est in unitary_esprit(x, J1, Δ, d, fc; side=:both)])"
   ]
  },
  {
   "cell_type": "code",
   "execution_count": 8,
   "id": "b2d7f41b",
   "metadata": {},
   "outputs": [
    {
     "name": "stdout",
     "output_type": "stream",
     "text": [
      "[129.9993647029515, 150.0530861430622]\n",
      "[50.000635297048476, 29.946913856937844]\n",
      "[[129.9993647029515, 150.0530861430622], [50.000635297048476, 29.946913856937844]]\n"
     ]
    }
   ],
   "source": [
    "using BeamLib: IsotropicArray, steer, unitary_esprit\n",
    "using LinearAlgebra\n",
    "using StatsBase\n",
    "\n",
    "fc = 150e6\n",
    "\n",
    "# Spacing:  1m is λ/2 for 150MHz \n",
    "#        subarray 1:  x    x   x   -\n",
    "#        subarray 2:  -    x   x   x\n",
    "pa = IsotropicArray([0.0 0.0 0.0 0.0\n",
    "                    -1.5 -0.5 0.5 1.5])\n",
    "\n",
    "Δ = mean(pa.r[:,2:end], dims=2)-mean(pa.r[:,1:end-1], dims=2)\n",
    "\n",
    "# selection matrix for subarray choice\n",
    "J1 = Matrix(I, 3, 4)\n",
    "\n",
    "# test signal generation\n",
    "Θ = deg2rad.([30, 50])\n",
    "d = length(Θ)\n",
    "fs = 8e3\n",
    "t = transpose(0:1/fs:1)\n",
    "s1 = sin.(2π*t*300)\n",
    "s2 = cos.(2π*t*400)\n",
    "\n",
    "s = steer(pa, fc, Θ')*[s1; s2]\n",
    "n = (0.1/sqrt(2))*(randn(size(s)) + 1im*randn(size(s)))\n",
    "x = s + n\n",
    "\n",
    "println(rad2deg.(unitary_esprit(x, J1, Δ, d, fc)))\n",
    "println(rad2deg.(unitary_esprit(x, J1, Δ, d, fc; side=:right)))\n",
    "println([rad2deg.(est) for est in unitary_esprit(x, J1, Δ, d, fc; side=:both)])"
   ]
  }
 ],
 "metadata": {
  "kernelspec": {
   "display_name": "Julia 1.11.5",
   "language": "julia",
   "name": "julia-1.11"
  },
  "language_info": {
   "file_extension": ".jl",
   "mimetype": "application/julia",
   "name": "julia",
   "version": "1.11.5"
  }
 },
 "nbformat": 4,
 "nbformat_minor": 5
}
