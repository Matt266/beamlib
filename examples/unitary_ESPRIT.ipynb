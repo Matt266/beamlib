{
 "cells": [
  {
   "cell_type": "code",
   "execution_count": 3,
   "id": "7cb91c08",
   "metadata": {},
   "outputs": [
    {
     "name": "stdout",
     "output_type": "stream",
     "text": [
      "[29.872238468009915, 50.00143980285491]\n",
      "[29.872370442559763, 50.001400896289454]\n",
      "[-29.872238468009915, -50.00143980285491]\n",
      "[[29.872238468009915, 50.00143980285491], [-29.872238468009915, -50.00143980285491]]\n"
     ]
    }
   ],
   "source": [
    "using BeamLib: IsotropicArray, steer, unitary_esprit\n",
    "using LinearAlgebra\n",
    "using StatsBase\n",
    "\n",
    "fc = 150e6\n",
    "\n",
    "# Spacing:  1m is λ/2 for 150MHz \n",
    "#        subarray 1:  x    x   x   -\n",
    "#        subarray 2:  -    x   x   x\n",
    "pa = IsotropicArray([-1.5 -0.5 0.5 1.5])\n",
    "\n",
    "Δ = mean(pa.r[:,2:end], dims=2)-mean(pa.r[:,1:end-1], dims=2)\n",
    "\n",
    "# selection matrix for subarray choice\n",
    "J1 = Matrix(I, 3, 4)\n",
    "\n",
    "# test signal generation\n",
    "Θ = deg2rad.([30, 50])\n",
    "d = length(Θ)\n",
    "fs = 8e3\n",
    "t = transpose(0:1/fs:1)\n",
    "s1 = sin.(2π*t*300)\n",
    "s2 = cos.(2π*t*400)\n",
    "\n",
    "s = steer(pa, fc, Θ')*[s1; s2]\n",
    "n = (0.1/sqrt(2))*(randn(size(s)) + 1im*randn(size(s)))\n",
    "x = s + n\n",
    "\n",
    "println(rad2deg.(unitary_esprit(x, J1, Δ, d, fc)))\n",
    "println(rad2deg.(unitary_esprit(x, J1, Δ, d, fc; TLS=false)))\n",
    "println(rad2deg.(unitary_esprit(x, J1, Δ, d, fc; side=:right)))\n",
    "println([rad2deg.(est) for est in unitary_esprit(x, J1, Δ, d, fc; side=:both)])"
   ]
  },
  {
   "cell_type": "code",
   "execution_count": 4,
   "id": "b2d7f41b",
   "metadata": {},
   "outputs": [
    {
     "name": "stdout",
     "output_type": "stream",
     "text": [
      "[129.99371532747313, 150.04633334986036]\n",
      "[50.00628467252682, 29.95366665013964]\n",
      "[[129.99371532747313, 150.04633334986036], [50.00628467252682, 29.95366665013964]]\n"
     ]
    }
   ],
   "source": [
    "using BeamLib: IsotropicArray, steer, unitary_esprit\n",
    "using LinearAlgebra\n",
    "using StatsBase\n",
    "\n",
    "fc = 150e6\n",
    "\n",
    "# Spacing:  1m is λ/2 for 150MHz \n",
    "#        subarray 1:  x    x   x   -\n",
    "#        subarray 2:  -    x   x   x\n",
    "pa = IsotropicArray([0.0 0.0 0.0 0.0\n",
    "                    -1.5 -0.5 0.5 1.5])\n",
    "\n",
    "Δ = mean(pa.r[:,2:end], dims=2)-mean(pa.r[:,1:end-1], dims=2)\n",
    "\n",
    "# selection matrix for subarray choice\n",
    "J1 = Matrix(I, 3, 4)\n",
    "\n",
    "# test signal generation\n",
    "Θ = deg2rad.([30, 50])\n",
    "d = length(Θ)\n",
    "fs = 8e3\n",
    "t = transpose(0:1/fs:1)\n",
    "s1 = sin.(2π*t*300)\n",
    "s2 = cos.(2π*t*400)\n",
    "\n",
    "s = steer(pa, fc, Θ')*[s1; s2]\n",
    "n = (0.1/sqrt(2))*(randn(size(s)) + 1im*randn(size(s)))\n",
    "x = s + n\n",
    "\n",
    "println(rad2deg.(unitary_esprit(x, J1, Δ, d, fc)))\n",
    "println(rad2deg.(unitary_esprit(x, J1, Δ, d, fc; side=:right)))\n",
    "println([rad2deg.(est) for est in unitary_esprit(x, J1, Δ, d, fc; side=:both)])"
   ]
  }
 ],
 "metadata": {
  "kernelspec": {
   "display_name": "Julia 1.11.5",
   "language": "julia",
   "name": "julia-1.11"
  },
  "language_info": {
   "file_extension": ".jl",
   "mimetype": "application/julia",
   "name": "julia",
   "version": "1.11.5"
  }
 },
 "nbformat": 4,
 "nbformat_minor": 5
}
