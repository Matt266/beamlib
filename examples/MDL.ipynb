{
 "cells": [
  {
   "cell_type": "code",
   "execution_count": 4,
   "id": "7cb91c08",
   "metadata": {},
   "outputs": [
    {
     "data": {
      "text/plain": [
       "2"
      ]
     },
     "metadata": {},
     "output_type": "display_data"
    }
   ],
   "source": [
    "using BeamLib: IsotropicArray, steer, mdl\n",
    "using LinearAlgebra\n",
    "\n",
    "fc = 150e6\n",
    "\n",
    "# Spacing:  1m is λ/2 for 150MHz \n",
    "# Oriented along yaxis to match Matlab behavior\n",
    "pa = IsotropicArray([0 0 0 0;\n",
    "                    -1.5 -0.5 0.5 1.5])\n",
    "\n",
    "# test signal generation\n",
    "Θ = deg2rad.([10, 80])\n",
    "d = length(Θ)\n",
    "fs = 8e3\n",
    "t = transpose(0:1/fs:1)\n",
    "s1 = sin.(2π*t*300)\n",
    "s2 = cos.(2π*t*400)\n",
    "\n",
    "s = steer(pa, fc, Θ')*[s1; s2]\n",
    "n = (0.1/sqrt(2))*(randn(size(s)) + 1im*randn(size(s)))\n",
    "X = s + n\n",
    "Rxx = 1/size(X)[2] * X*X'\n",
    "\n",
    "# return MDL estimate of number of sources\n",
    "d_est = mdl(Rxx, size(X,2))"
   ]
  }
 ],
 "metadata": {
  "kernelspec": {
   "display_name": "Julia 1.11.5",
   "language": "julia",
   "name": "julia-1.11"
  },
  "language_info": {
   "file_extension": ".jl",
   "mimetype": "application/julia",
   "name": "julia",
   "version": "1.11.5"
  }
 },
 "nbformat": 4,
 "nbformat_minor": 5
}
