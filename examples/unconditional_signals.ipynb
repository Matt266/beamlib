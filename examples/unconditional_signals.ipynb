{
 "cells": [
  {
   "cell_type": "code",
   "execution_count": 1,
   "id": "7cb91c08",
   "metadata": {},
   "outputs": [
    {
     "name": "stdout",
     "output_type": "stream",
     "text": [
      "Unconditional Signals Covariance\n",
      "ComplexF64[1.000058446452119 + 0.0im -0.07115357476944333 - 0.28108591424118706im 0.7204759178809746 - 0.3941236870974039im -0.5219522218825319 - 0.5627886781400615im; -0.07115357476944333 + 0.28108591424118706im 1.020682539425688 + 0.0im -0.07309105834403282 - 0.2900378587458487im 0.7338708251575281 - 0.39994523892292644im; 0.7204759178809746 + 0.3941236870974039im -0.07309105834403282 + 0.2900378587458487im 1.0059973837272491 + 0.0im -0.06777057425149925 - 0.2721400260804819im; -0.5219522218825319 + 0.5627886781400615im 0.7338708251575281 + 0.39994523892292644im -0.06777057425149925 + 0.2721400260804819im 1.008153622536386 + 0.0im]\n",
      "\n",
      "Unconditional Signals DOA Estimate\n",
      "[9.992847302600527, 79.91012055282245]\n",
      "\n",
      "Conditional Signals Covariance\n",
      "ComplexF64[1.0112527837307221 + 0.0im -0.07321858996366042 - 0.281817591514824im 0.7277116194567058 - 0.398466398566172im -0.5309260407669659 - 0.5675959097685384im; -0.07321858996366042 + 0.281817591514824im 1.0102011246520644 + 0.0im -0.07413033494744135 - 0.2839734437719533im 0.7276017468437856 - 0.3973660837045222im; 0.7277116194567058 + 0.398466398566172im -0.07413033494744135 + 0.2839734437719533im 1.0099198534576206 + 0.0im -0.0730624468450291 - 0.28261239349970385im; -0.5309260407669659 + 0.5675959097685384im 0.7276017468437856 + 0.3973660837045222im -0.0730624468450291 + 0.28261239349970385im 1.0106326388680158 + 0.0im]\n",
      "\n",
      "Conditional Signals DOA Estimate\n",
      "[79.9124198372868, 10.027838263062383]\n",
      "\n"
     ]
    }
   ],
   "source": [
    "using BeamLib: IsotropicArray, steerphi, esprit, unconditional_signals\n",
    "using LinearAlgebra\n",
    "\n",
    "fc = 150e6\n",
    "\n",
    "# Spacing:  1m is λ/2 for 150MHz \n",
    "# Oriented along yaxis to match Matlab behavior\n",
    "#        subarray 1:  x    x   x   -\n",
    "#        subarray 2:  -    x   x   x\n",
    "pa = IsotropicArray([0 0 0 0;\n",
    "                    -1.5 -0.5 0.5 1.5])\n",
    "Δ = 1\n",
    "\n",
    "Θ = deg2rad.([10, 80])\n",
    "d = length(Θ)\n",
    "\n",
    "A = reduce(hcat,steerphi.(Ref(pa), Ref(fc), Θ))\n",
    "\n",
    "# unconditional/stochastic signals\n",
    "Rss = [0.5 0; 0 0.5]\n",
    "N = Int(8e3)\n",
    "s = unconditional_signals(Rss, N)\n",
    "n = (0.1/sqrt(2))*(randn(length(pa), N) + 1im*randn(length(pa), N))\n",
    "x = A*s + n\n",
    "Z = [x[1:3,:]; x[2:4,:]]\n",
    "Rzz = 1/size(Z)[2] * Z*Z'\n",
    "\n",
    "\n",
    "println(\"Unconditional Signals Covariance\")\n",
    "println(x*x'/N)\n",
    "println(\"\")\n",
    "\n",
    "println(\"Unconditional Signals DOA Estimate\")\n",
    "Θest = esprit(Rzz, Δ, d, fc)\n",
    "println(rad2deg.(Θest))\n",
    "println(\"\")\n",
    "\n",
    "# conditional/deterministic signals\n",
    "fs = 8e3\n",
    "t = transpose(0:1/fs:1)\n",
    "s1 = sin.(2π*t*300)\n",
    "s2 = cos.(2π*t*400)\n",
    "s = [s1; s2]\n",
    "n = (0.1/sqrt(2))*(randn(length(pa), length(t)) + 1im*randn(length(pa), length(t)))\n",
    "x = A*s + n\n",
    "Z = [x[1:3,:]; x[2:4,:]]\n",
    "Rzz = 1/size(Z)[2] * Z*Z'\n",
    "\n",
    "println(\"Conditional Signals Covariance\")\n",
    "println(x*x'/N)\n",
    "println(\"\")\n",
    "\n",
    "println(\"Conditional Signals DOA Estimate\")\n",
    "Θest = esprit(Rzz, Δ, d, fc)\n",
    "println(rad2deg.(Θest))\n",
    "println(\"\")"
   ]
  }
 ],
 "metadata": {
  "kernelspec": {
   "display_name": "Julia 1.11.5",
   "language": "julia",
   "name": "julia-1.11"
  },
  "language_info": {
   "file_extension": ".jl",
   "mimetype": "application/julia",
   "name": "julia",
   "version": "1.11.5"
  }
 },
 "nbformat": 4,
 "nbformat_minor": 5
}
