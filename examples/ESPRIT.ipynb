{
 "cells": [
  {
   "cell_type": "code",
   "execution_count": 3,
   "id": "7cb91c08",
   "metadata": {},
   "outputs": [
    {
     "name": "stdout",
     "output_type": "stream",
     "text": [
      "[30.110371668819433, 9.727253886989969]\n",
      "[-30.110371668819433, -9.727253886989969]\n",
      "[[30.110371668819433, 9.727253886989969], [-30.110371668819433, -9.727253886989969]]\n"
     ]
    }
   ],
   "source": [
    "using BeamLib: IsotropicArray, steerphi, esprit\n",
    "using LinearAlgebra\n",
    "using StatsBase\n",
    "\n",
    "fc = 150e6\n",
    "\n",
    "# Spacing:  1m is λ/2 for 150MHz \n",
    "#        subarray 1:  x    x   x   -\n",
    "#        subarray 2:  -    x   x   x\n",
    "pa = IsotropicArray([-1.5 -0.5 0.5 1.5])\n",
    "Δ = mean(pa.r[:,2:end], dims=2)-mean(pa.r[:,1:end-1], dims=2)\n",
    "\n",
    "# test signal generation\n",
    "Θ = deg2rad.([10, 30])\n",
    "d = length(Θ)\n",
    "fs = 8e3\n",
    "t = transpose(0:1/fs:1)\n",
    "s1 = sin.(2π*t*300)\n",
    "s2 = cos.(2π*t*400)\n",
    "\n",
    "s = steerphi(pa, fc, Θ[1]).*s1 + steerphi(pa, fc, Θ[2]).*s2\n",
    "n = (0.1/sqrt(2))*(randn(size(s)) + 1im*randn(size(s)))\n",
    "x = s + n\n",
    "Z = [x[1:3,:]; x[2:4,:]]\n",
    "Rzz = 1/size(Z)[2] * Z*Z'\n",
    "\n",
    "println(rad2deg.(esprit(Rzz, Δ, d, fc)))\n",
    "println(rad2deg.(esprit(Rzz, Δ, d, fc; side=:right)))\n",
    "println([rad2deg.(est) for est in esprit(Rzz, Δ, d, fc; side=:both)])"
   ]
  },
  {
   "cell_type": "code",
   "execution_count": 4,
   "id": "d091e950",
   "metadata": {},
   "outputs": [
    {
     "name": "stdout",
     "output_type": "stream",
     "text": [
      "[170.01530231367676, 149.96082604757362]\n",
      "[9.984697686323257, 30.03917395242639]\n",
      "[[170.01530231367676, 149.96082604757362], [9.984697686323257, 30.03917395242639]]\n"
     ]
    }
   ],
   "source": [
    "using BeamLib: IsotropicArray, steerphi, esprit\n",
    "using LinearAlgebra\n",
    "using StatsBase\n",
    "\n",
    "fc = 150e6\n",
    "\n",
    "# Spacing:  1m is λ/2 for 150MHz \n",
    "#        subarray 1:  x    x   x   -\n",
    "#        subarray 2:  -    x   x   x\n",
    "pa = IsotropicArray([0.0 0.0 0.0 0.0\n",
    "                    -1.5 -0.5 0.5 1.5])\n",
    "Δ = mean(pa.r[:,2:end], dims=2)-mean(pa.r[:,1:end-1], dims=2)\n",
    "\n",
    "# test signal generation\n",
    "Θ = deg2rad.([10, 30])\n",
    "d = length(Θ)\n",
    "fs = 8e3\n",
    "t = transpose(0:1/fs:1)\n",
    "s1 = sin.(2π*t*300)\n",
    "s2 = cos.(2π*t*400)\n",
    "\n",
    "s = steerphi(pa, fc, Θ[1]).*s1 + steerphi(pa, fc, Θ[2]).*s2\n",
    "n = (0.1/sqrt(2))*(randn(size(s)) + 1im*randn(size(s)))\n",
    "x = s + n\n",
    "Z = [x[1:3,:]; x[2:4,:]]\n",
    "Rzz = 1/size(Z)[2] * Z*Z'\n",
    "\n",
    "println(rad2deg.(esprit(Rzz, Δ, d, fc)))\n",
    "println(rad2deg.(esprit(Rzz, Δ, d, fc; side=:right)))\n",
    "println([rad2deg.(est) for est in esprit(Rzz, Δ, d, fc; side=:both)])"
   ]
  }
 ],
 "metadata": {
  "kernelspec": {
   "display_name": "Julia 1.11.5",
   "language": "julia",
   "name": "julia-1.11"
  },
  "language_info": {
   "file_extension": ".jl",
   "mimetype": "application/julia",
   "name": "julia",
   "version": "1.11.5"
  }
 },
 "nbformat": 4,
 "nbformat_minor": 5
}
