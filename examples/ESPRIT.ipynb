{
 "cells": [
  {
   "cell_type": "code",
   "execution_count": null,
   "id": "7cb91c08",
   "metadata": {},
   "outputs": [
    {
     "name": "stdout",
     "output_type": "stream",
     "text": [
      "(6,)\n",
      "[34, 76]\n",
      "[-21.9382899368349, 18.079327106623243]\n"
     ]
    }
   ],
   "source": [
    "using BeamLib: PhasedArray1D, PhasedArray2D, NestedArray, steerphi, esprit\n",
    "using LinearAlgebra\n",
    "# Construct two overlapping subarrays with the same structure from the following ULA:\n",
    "# pa = PhasedArray1D(-6e-2, -2e-2, 2e-2, 6e-2)\n",
    "pa = PhasedArray1D(-2e-2, 2e-2)\n",
    "Δ = 8e-2\n",
    "\n",
    "# Combined array to generate a data matrix z for testing\n",
    "pa_z = NestedArray([pa, pa], PhasedArray2D([(-0.5Δ, 0), (0.5Δ, 0)]))\n",
    "\n",
    "fc = 3.75e9 \n",
    "\n",
    "Θ = [34, 76]\n",
    "d = length(Θ)\n",
    "A = [steerphi(pa_z, fc, deg2rad(Θ[1])) steerphi(pa_z, fc, deg2rad(Θ[2]))]\n",
    "\n",
    "Z = sum(A, dims=2)[:,1]\n",
    "Z = [Z[1:3]; Z[2:4]]\n",
    "Z = [Z Z Z Z Z Z]\n",
    "\n",
    "Θest = (esprit(Z, Δ, d, fc))\n",
    "\n",
    "println(Θ)\n",
    "println(rad2deg.(Θest))"
   ]
  }
 ],
 "metadata": {
  "kernelspec": {
   "display_name": "Julia 1.11.4",
   "language": "julia",
   "name": "julia-1.11"
  },
  "language_info": {
   "file_extension": ".jl",
   "mimetype": "application/julia",
   "name": "julia",
   "version": "1.11.4"
  }
 },
 "nbformat": 4,
 "nbformat_minor": 5
}
