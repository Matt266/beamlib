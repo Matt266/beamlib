{
 "cells": [
  {
   "cell_type": "code",
   "execution_count": 31,
   "id": "7cb91c08",
   "metadata": {},
   "outputs": [
    {
     "data": {
      "text/plain": [
       "4-element Vector{ComplexF64}:\n",
       "  0.683051162579432 - 0.7303705287721338im\n",
       " 0.9629785652613384 - 0.26957797173955866im\n",
       " 0.9629785652613384 + 0.26957797173955866im\n",
       "  0.683051162579432 + 0.7303705287721338im"
      ]
     },
     "metadata": {},
     "output_type": "display_data"
    },
    {
     "data": {
      "text/plain": [
       "4×8001 Matrix{ComplexF64}:\n",
       " -0.683637-0.729823im  -0.436058-0.787106im  …  -0.683637-0.729823im\n",
       "  0.714764-0.699366im   0.911052-0.696924im      0.714764-0.699366im\n",
       "  0.714764+0.699366im   0.911052+0.696924im      0.714764+0.699366im\n",
       " -0.683637+0.729823im  -0.436058+0.787106im     -0.683637+0.729823im"
      ]
     },
     "metadata": {},
     "output_type": "display_data"
    },
    {
     "name": "stdout",
     "output_type": "stream",
     "text": [
      "[175.015, 29.520000000000003]\n",
      "[34.68340916177513, 0.606248932366604]\n"
     ]
    }
   ],
   "source": [
    "using BeamLib: IsotropicArray, NestedArray, steerphi, esprit, Outgoing, Incoming\n",
    "using LinearAlgebra\n",
    "\n",
    "fc = 150e6\n",
    "\n",
    "# Spacing: 1m is λ/2 for 150MHz \n",
    "# Oriented along yaxis to match Matlab behavior\n",
    "#        subarray 1:  x    x   x   -\n",
    "#        subarray 2:  -    x   x   x\n",
    "pa = IsotropicArray([0 0 0 0;\n",
    "                    -1.5 -0.5 0.5 1.5])\n",
    "Δ = 1\n",
    "\n",
    "# test signal generation\n",
    "Θ = deg2rad.([175.015, 29.52])\n",
    "d = length(Θ)\n",
    "fs = 8e3\n",
    "t = (0:1/fs:1)'\n",
    "s1 = sin.(2π*t*300)\n",
    "s2 = cos.(2π*t*400)\n",
    "\n",
    "#display(steerphi(pa, fc, deg2rad(10)))\n",
    "display(steerphi(pa, fc, deg2rad(10)))\n",
    "\n",
    "s = steerphi(pa, fc, Θ[1]).*s1 + steerphi(pa, fc, Θ[2]).*s2\n",
    "n = (0.1/sqrt(2))*(randn(size(s)) + 1im*randn(size(s)))\n",
    "x = s #+ n\n",
    "#Z = [x[1:3,:]; x[2:4,:]]\n",
    "Z = x\n",
    "\n",
    "display(Z)\n",
    "\n",
    "Θest = (esprit(Z, Δ, d, fc))\n",
    "\n",
    "println(rad2deg.(Θ))\n",
    "println(rad2deg.(Θest))"
   ]
  }
 ],
 "metadata": {
  "kernelspec": {
   "display_name": "Julia 1.11.4",
   "language": "julia",
   "name": "julia-1.11"
  },
  "language_info": {
   "file_extension": ".jl",
   "mimetype": "application/julia",
   "name": "julia",
   "version": "1.11.4"
  }
 },
 "nbformat": 4,
 "nbformat_minor": 5
}
